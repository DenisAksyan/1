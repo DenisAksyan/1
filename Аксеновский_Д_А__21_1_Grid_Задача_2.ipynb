{
  "nbformat": 4,
  "nbformat_minor": 0,
  "metadata": {
    "colab": {
      "provenance": [],
      "authorship_tag": "ABX9TyOdyEUBFOiC1A4dbWglB9sD",
      "include_colab_link": true
    },
    "kernelspec": {
      "name": "python3",
      "display_name": "Python 3"
    },
    "language_info": {
      "name": "python"
    }
  },
  "cells": [
    {
      "cell_type": "markdown",
      "metadata": {
        "id": "view-in-github",
        "colab_type": "text"
      },
      "source": [
        "<a href=\"https://colab.research.google.com/github/DenisAksyan/1/blob/main/%D0%90%D0%BA%D1%81%D0%B5%D0%BD%D0%BE%D0%B2%D1%81%D0%BA%D0%B8%D0%B9_%D0%94_%D0%90__21_1_Grid_%D0%97%D0%B0%D0%B4%D0%B0%D1%87%D0%B0_2.ipynb\" target=\"_parent\"><img src=\"https://colab.research.google.com/assets/colab-badge.svg\" alt=\"Open In Colab\"/></a>"
      ]
    },
    {
      "cell_type": "code",
      "source": [
        "pip install mpi4py"
      ],
      "metadata": {
        "colab": {
          "base_uri": "https://localhost:8080/"
        },
        "id": "HT1cKcE0FHXK",
        "outputId": "9dd8b5db-c63f-4353-949c-deddfe4c3544"
      },
      "execution_count": 1,
      "outputs": [
        {
          "output_type": "stream",
          "name": "stdout",
          "text": [
            "Collecting mpi4py\n",
            "  Downloading mpi4py-4.0.1.tar.gz (466 kB)\n",
            "\u001b[?25l     \u001b[90m━━━━━━━━━━━━━━━━━━━━━━━━━━━━━━━━━━━━━━━━\u001b[0m \u001b[32m0.0/466.2 kB\u001b[0m \u001b[31m?\u001b[0m eta \u001b[36m-:--:--\u001b[0m\r\u001b[2K     \u001b[91m━━━━━━━━━━━━━━━━━━━━━━━━━━━━━━━━━━━━━━━\u001b[0m\u001b[91m╸\u001b[0m \u001b[32m460.8/466.2 kB\u001b[0m \u001b[31m20.5 MB/s\u001b[0m eta \u001b[36m0:00:01\u001b[0m\r\u001b[2K     \u001b[90m━━━━━━━━━━━━━━━━━━━━━━━━━━━━━━━━━━━━━━━━\u001b[0m \u001b[32m466.2/466.2 kB\u001b[0m \u001b[31m12.8 MB/s\u001b[0m eta \u001b[36m0:00:00\u001b[0m\n",
            "\u001b[?25h  Installing build dependencies ... \u001b[?25l\u001b[?25hdone\n",
            "  Getting requirements to build wheel ... \u001b[?25l\u001b[?25hdone\n",
            "  Installing backend dependencies ... \u001b[?25l\u001b[?25hdone\n",
            "  Preparing metadata (pyproject.toml) ... \u001b[?25l\u001b[?25hdone\n",
            "Building wheels for collected packages: mpi4py\n",
            "  Building wheel for mpi4py (pyproject.toml) ... \u001b[?25l\u001b[?25hdone\n",
            "  Created wheel for mpi4py: filename=mpi4py-4.0.1-cp310-cp310-linux_x86_64.whl size=4266348 sha256=3442bb5d47f4208adb87bbce17029ec4c36ab26ba77604c7354ffbde46f29698\n",
            "  Stored in directory: /root/.cache/pip/wheels/3c/ca/13/13218a83854023ccec184e3af482f0f038b434aa32c19afee8\n",
            "Successfully built mpi4py\n",
            "Installing collected packages: mpi4py\n",
            "Successfully installed mpi4py-4.0.1\n"
          ]
        }
      ]
    },
    {
      "cell_type": "code",
      "source": [
        "from mpi4py import MPI\n",
        "import numpy as np"
      ],
      "metadata": {
        "id": "dwqcrEjUE_xt"
      },
      "execution_count": 2,
      "outputs": []
    },
    {
      "cell_type": "code",
      "execution_count": 3,
      "metadata": {
        "id": "8ir7IBm5Ebhr"
      },
      "outputs": [],
      "source": [
        "def greedy_schedule(tasks, time_slots):\n",
        "    # Сортируем задачи по приоритету (по убыванию)\n",
        "    tasks.sort(key=lambda x: x['priority'])\n",
        "\n",
        "    # Сортируем временные слоты по времени\n",
        "    time_slots.sort(key=lambda x: x['duration'])\n",
        "\n",
        "    schedule = {}\n",
        "\n",
        "    for task in tasks:\n",
        "        for slot in time_slots:\n",
        "            # Проверяем, достаточно ли времени в слоте для выполнения задачи\n",
        "            if task['duration'] <= slot['duration']:\n",
        "                # Записываем задачу в расписание\n",
        "                schedule[slot['start_time']] = task['name']\n",
        "                if slot['duration'] != 0:\n",
        "                    slot['start_time'] = slot['start_time'] + ' '\n",
        "                # Уменьшаем доступное время в слоте\n",
        "                slot['duration'] -= task['duration']\n",
        "                # Если слот полностью занят, убираем его из списка\n",
        "                if slot['duration'] == 0:\n",
        "                    time_slots.remove(slot)\n",
        "\n",
        "                break  # Переходим к следующей задаче\n",
        "\n",
        "    return schedule\n",
        "\n",
        "def main():\n",
        "    comm = MPI.COMM_WORLD\n",
        "    rank = comm.Get_rank()\n",
        "    size = comm.Get_size()\n",
        "\n",
        "    # Пример входных данных (для простоты, они одинаковые для всех процессов)\n",
        "    tasks = [\n",
        "        {'name': 'Task 1', 'duration': 2, 'priority': 1},\n",
        "        {'name': 'Task 2', 'duration': 1, 'priority': 3},\n",
        "        {'name': 'Task 3', 'duration': 3, 'priority': 2},\n",
        "        {'name': 'Task 4', 'duration': 2, 'priority': 4},\n",
        "        {'name': 'Task 5', 'duration': 1, 'priority': 5}\n",
        "    ]\n",
        "\n",
        "    time_slots = [\n",
        "        {'start_time': '09:00', 'duration': 3},\n",
        "        {'start_time': '10:00', 'duration': 2},\n",
        "        {'start_time': '11:00', 'duration': 4}\n",
        "    ]\n",
        "\n",
        "    # Разделение задач между процессами\n",
        "    num_tasks = len(tasks)\n",
        "    tasks_per_process = num_tasks // size\n",
        "    remainder = num_tasks % size\n",
        "\n",
        "    start_index = rank * tasks_per_process + min(rank, remainder)\n",
        "    end_index = start_index + tasks_per_process + (1 if rank < remainder else 0)\n",
        "\n",
        "    local_tasks = tasks[start_index:end_index]\n",
        "\n",
        "    # Каждый процесс выполняет жадный алгоритм на своем наборе задач\n",
        "    local_schedule = greedy_schedule(local_tasks, time_slots.copy())\n",
        "\n",
        "    # Сбор результатов от всех процессов\n",
        "    all_schedules = comm.gather(local_schedule, root=0)\n",
        "\n",
        "    if rank == 0:\n",
        "        # Объединение расписаний\n",
        "        final_schedule = {}\n",
        "        for schedule in all_schedules:\n",
        "            final_schedule.update(schedule)\n",
        "\n",
        "        print(\"Itog\")\n",
        "        for start_time, task_name in final_schedule.items():\n",
        "            print(f\"{start_time}: {task_name}\")\n",
        "        print(final_schedule.items())"
      ]
    },
    {
      "cell_type": "code",
      "source": [
        "if __name__ == \"__main__\":\n",
        "    main()"
      ],
      "metadata": {
        "colab": {
          "base_uri": "https://localhost:8080/"
        },
        "id": "MERqcPi7mUuy",
        "outputId": "8833cf2c-45ad-46e5-886d-3a04d86fa8c2"
      },
      "execution_count": 4,
      "outputs": [
        {
          "output_type": "stream",
          "name": "stdout",
          "text": [
            "Itog\n",
            "10:00: Task 1\n",
            "09:00: Task 3\n",
            "11:00: Task 2\n",
            "11:00 : Task 4\n",
            "11:00  : Task 5\n",
            "dict_items([('10:00', 'Task 1'), ('09:00', 'Task 3'), ('11:00', 'Task 2'), ('11:00 ', 'Task 4'), ('11:00  ', 'Task 5')])\n"
          ]
        }
      ]
    },
    {
      "cell_type": "markdown",
      "source": [
        "mpiexec -n 3 python 1.py"
      ],
      "metadata": {
        "id": "En247-rNmBnh"
      }
    }
  ]
}