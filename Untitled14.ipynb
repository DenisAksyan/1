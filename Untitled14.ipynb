{
  "nbformat": 4,
  "nbformat_minor": 0,
  "metadata": {
    "colab": {
      "provenance": [],
      "authorship_tag": "ABX9TyMw4BfS9SIed3H2gytELzFh",
      "include_colab_link": true
    },
    "kernelspec": {
      "name": "python3",
      "display_name": "Python 3"
    },
    "language_info": {
      "name": "python"
    }
  },
  "cells": [
    {
      "cell_type": "markdown",
      "metadata": {
        "id": "view-in-github",
        "colab_type": "text"
      },
      "source": [
        "<a href=\"https://colab.research.google.com/github/DenisAksyan/1/blob/main/Untitled14.ipynb\" target=\"_parent\"><img src=\"https://colab.research.google.com/assets/colab-badge.svg\" alt=\"Open In Colab\"/></a>"
      ]
    },
    {
      "cell_type": "markdown",
      "source": [
        "# **Отчет по диплому**"
      ],
      "metadata": {
        "id": "PlKXow7D0ZqP"
      }
    },
    {
      "cell_type": "markdown",
      "source": [
        "# **По теме: Методы вычисления произвольной точности на многоядерных вычислительных системах**"
      ],
      "metadata": {
        "id": "axSWmL330ftB"
      }
    },
    {
      "cell_type": "markdown",
      "source": [
        "[Постоянная Апери](https://ru.wikipedia.org/wiki/%D0%9F%D0%BE%D1%81%D1%82%D0%BE%D1%8F%D0%BD%D0%BD%D0%B0%D1%8F_%D0%90%D0%BF%D0%B5%D1%80%D0%B8)"
      ],
      "metadata": {
        "id": "6vwV4E_y1cn3"
      }
    },
    {
      "cell_type": "markdown",
      "source": [
        "Const =  1,202 056 903 159 594 285 399 738 161 511 449 990 764 986 292 340 498 881 792 271 555 3"
      ],
      "metadata": {
        "id": "Q-SVjBuX1kE4"
      }
    },
    {
      "cell_type": "markdown",
      "source": [
        "Алгоритм - Пулл потоков"
      ],
      "metadata": {
        "id": "vhdfYjJe2Apj"
      }
    },
    {
      "cell_type": "markdown",
      "source": [
        "Реализовано с помощью двух функций"
      ],
      "metadata": {
        "id": "0gJp540A2S3k"
      }
    },
    {
      "cell_type": "markdown",
      "source": [
        "1) Распределение данных"
      ],
      "metadata": {
        "id": "wiGHjHH-2cK9"
      }
    },
    {
      "cell_type": "code",
      "execution_count": null,
      "metadata": {
        "id": "P6pq7ND10ZJ0"
      },
      "outputs": [],
      "source": [
        "// Распределение данных между процессами\n",
        "void t_data(int s, int lnmass[col], int lnmas[col][2], int m)\n",
        "{\n",
        "    for (int g = 0; g < s; g++) //Перебираем по номеру процессы\n",
        "    {\n",
        "        if (lnmass[g] == 0) //Если процесс под номером g - не занят (lnmass[g] == 0)\n",
        "        {\n",
        "            m = 0;// То начинаем перебор не занятых элементов ряда\n",
        "            while (m < col) // Перебор\n",
        "            {\n",
        "                if (lnmas[m][1] == 0) // Если элемент не занят (lnmas[m][1] == 0)\n",
        "                {// , то\n",
        "                    lnmas[m][0] = g;// Указываем номер процесса, который занимается этим элементом\n",
        "                    lnmas[m][1] = 1;// Указываем на то, что  выполняется подсчёт данного элемента (lnmas[m][1] = 1)\n",
        "                    m = col; // Завершаем цикл\n",
        "                    lnmass[g] = 1; // Устанавливаем значение занятости процесса\n",
        "                }\n",
        "                else\n",
        "                {\n",
        "                    m = m + 1; // Если элемент занят, то просматриваем следующий ( стоящий справа )\n",
        "                }\n",
        "            }\n",
        "        }\n",
        "    }\n",
        "}"
      ]
    },
    {
      "cell_type": "markdown",
      "source": [
        "2) Рассылка элементов по процессам"
      ],
      "metadata": {
        "id": "O4eWCDdf2ejN"
      }
    },
    {
      "cell_type": "code",
      "source": [
        "void r_data(int s, int lnmas[col][2], int m, int u)\n",
        "{\n",
        "    m = 0;\n",
        "    for (m = 0; m < col; m++) // Перебираем элементы\n",
        "    {\n",
        "        if ((lnmas[m][1] == 1) && (lnmas[m][0] != 0)) // Если в данный момент нужно выполнить подсчёт этого элемента и процесс выполняющий подсчёт не является нулевым\n",
        "        {\n",
        "            MPI_Send(&m, 1, MPI_INT, lnmas[m][0], 0, MPI_COMM_WORLD); // Отсылаем номер элемента, над которым нужно работать, каждому процессу\n",
        "\n",
        "        }\n",
        "        else if ((lnmas[m][1] == 1) && (lnmas[m][0] == 0))\n",
        "        {\n",
        "            u = m;\n",
        "\n",
        "        }\n",
        "    }\n",
        "}"
      ],
      "metadata": {
        "id": "ad_Bd_aL2hKu"
      },
      "execution_count": null,
      "outputs": []
    },
    {
      "cell_type": "markdown",
      "source": [
        "С условием пока последний элемент не задействован"
      ],
      "metadata": {
        "id": "scX8hFjG2pzW"
      }
    },
    {
      "cell_type": "markdown",
      "source": [
        "    if (rank == 0) { // На 0 процессе\n",
        "            if (lnmas[col - 1][1] == 0)//Пока над последним элементом не поработает процесс\n",
        "            {\n",
        "                // Распределение данных между процессами\n",
        "                t_data(size, lnmass, lnmas, m);\n",
        "\n",
        "                // Рассылка элементов по процессам\n",
        "                r_data(size, lnmas, m, u);\n",
        "            }\n",
        "\n",
        "        }"
      ],
      "metadata": {
        "id": "_SQtAlyV2t0_"
      }
    },
    {
      "cell_type": "markdown",
      "source": [
        "Константа апери считается как ряд из элементов которые представляют из себя дроби, часть из которых являются значениями с бесконечным числом знаков после запятой."
      ],
      "metadata": {
        "id": "C8HQ80ul242o"
      }
    },
    {
      "cell_type": "markdown",
      "source": [
        "![Снимок экрана 2025-02-19 183840.png](data:image/png;base64,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)"
      ],
      "metadata": {
        "id": "dfo0ydNq3IZa"
      }
    },
    {
      "cell_type": "markdown",
      "source": [
        "Алгоритм принимает номер элемента и начинает его подсчет до заданной точности, записывая значения в массив"
      ],
      "metadata": {
        "id": "MXUm3y3M3ZUr"
      }
    },
    {
      "cell_type": "code",
      "source": [
        "void c_mas(int i, float b, float aa, int mas[row])\n",
        "{\n",
        "    while (i < row)\n",
        "    {\n",
        "        ////////////////////////////////////////////////////////////////////////////////////////////////////////////\n",
        "        float z = 0;\n",
        "        //Если b (в данном случае 1 - не делится на наше число ( которое равняется от 1 до 50-ти в третьей степени), то\n",
        "        // мы движемся вправо по числу (i=1) (0,0 -> 0,00) (i+1) (i=2) и домножаем b на 10-ть (имитируем деление в столбик (1 / 10) = 0,.... (10/10) = 1, = {0,1}\n",
        "        ////////////////////////////////////\n",
        "        if ((b / aa) < 1)\n",
        "        {\n",
        "            i = i + 1;\n",
        "            b = b * 10;\n",
        "        }\n",
        "        //Если в данном случае b делится на число (к примеру 10 / 3),\n",
        "        //  то мы берем целое от числа и записываем int(10/3) = 0,...3...//1)   и заполняем им значение массива    //2)\n",
        "        // после этого берем остаток от деления и присваеваем его значение b %(10/3) = 1 и повторяем операцию\n",
        "        // и выходит {3} остаток -  b = 1, не делится следовательно {3,..} смотрим b*10 = 1*10 = 10; 10/3 => 3 {3, 3...}\n",
        "        //////////////////////////////////////\n",
        "        else\n",
        "        {\n",
        "            z = (int)(b / aa);//1)\n",
        "            mas[i] = z;\n",
        "            b = (int)b % (int)aa;\n",
        "        }\n",
        "        // i = i + 1;\n",
        "    }\n",
        "}"
      ],
      "metadata": {
        "id": "YZZOmFL-3eQs"
      },
      "execution_count": null,
      "outputs": []
    },
    {
      "cell_type": "markdown",
      "source": [
        "После этого значения суммируются"
      ],
      "metadata": {
        "id": "QQd-BGHB31x2"
      }
    },
    {
      "cell_type": "code",
      "source": [
        "void summmas(int masn[col][row])\n",
        "{\n",
        "    for (int x1 = 0; x1 < col; x1++)\n",
        "    {\n",
        "        for (int x2 = 1; x2 < row; x2++)\n",
        "        {\n",
        "            masn[0][x2] = masn[0][x2] + masn[x1][x2];\n",
        "            masn[x1][x2] = 0;\n",
        "        }\n",
        "    }\n",
        "}"
      ],
      "metadata": {
        "id": "1OZR22Vt37SP"
      },
      "execution_count": null,
      "outputs": []
    },
    {
      "cell_type": "markdown",
      "source": [
        "//Функция для сокращения (К примеру: если в ответе получается ряд вида 0,1 15 29 и т.д. а она переделывает его в 0, 2 7 9...."
      ],
      "metadata": {
        "id": "LZW3evp24Fi_"
      }
    },
    {
      "cell_type": "code",
      "source": [
        "void norm_mas(int masn[col][row])\n",
        "{\n",
        "    for (int x1 = 0; x1 < col; x1++)\n",
        "    {\n",
        "        for (int x2 = 1; x2 < row; x2++)\n",
        "        {\n",
        "            while (masn[0][x2] > 9)\n",
        "            {\n",
        "                masn[0][x2] = masn[0][x2] - 10;\n",
        "                masn[0][x2 - 1] = masn[0][x2 - 1] + 1;\n",
        "            }\n",
        "\n",
        "        }\n",
        "            printf(\"%i \", masn[0][x1]);\n",
        "\n",
        "    }\n",
        "}"
      ],
      "metadata": {
        "id": "P4HTR8sl3-6A"
      },
      "execution_count": null,
      "outputs": []
    },
    {
      "cell_type": "markdown",
      "source": [
        "Помимо этого есть вариант кода на си и на си++ (дописал на с++ поскольку попал на предмет по оптимизации программ и там услышал, что у с++ и си небольшая разница в производительности, но компилятор нормальный на си есть только на линуксе, и поскольку по программе изучаться будет с++, решил что по возможности смогу оптимизировать код с помощью знаний полученных на этом предмете."
      ],
      "metadata": {
        "id": "gsDw-KzJ4ZPK"
      }
    },
    {
      "cell_type": "markdown",
      "source": [
        "Доп. (как запускаю)\n",
        "//cd source\\repos\\ConsoleApplication2\\x64\\Debug\n",
        "//mpiexec -n 3 .\\ConsoleApplication2.exe"
      ],
      "metadata": {
        "id": "HFxat37b45BN"
      }
    },
    {
      "cell_type": "markdown",
      "source": [
        "Точность для 10 элементов: 1 1 9 7 5 3 1 9 8 4"
      ],
      "metadata": {
        "id": "Z_ol7hG15Mz-"
      }
    },
    {
      "cell_type": "markdown",
      "source": [
        "Точность для 40 элементов: 1 1 9 9 9 0 3 7 2 7 7 8 6 6 7 6 1 0 4 8 9 2 2 8 0 2 5 1 3 1 2 7 5 3 2 0 2 3 9 5"
      ],
      "metadata": {
        "id": "Driv47GH5dhp"
      }
    },
    {
      "cell_type": "markdown",
      "source": [
        "Точность для 50 элементов: 1 1 9 9 9 0 3 7 2 7 7 8 6 6 7 6 1 0 4 8 9 2 2 8 0 2 5 1 3 1 2 7 5 3 2 0 2 3 9 7 9 4 9 1 8 5 5 5 0"
      ],
      "metadata": {
        "id": "O4PFSCd55zGy"
      }
    },
    {
      "cell_type": "markdown",
      "source": [
        "Точность из 450+ элементов: 1 1 9 9 9 0 3 7 2 7 7 8 6 6 7 6 1 0 4 8 9 2 2 8 0 2 5 1 3 1 2 7 5 3 2 0 2 3 9 7 9 4 9 1 8 5 5 5 3 1 1 6 0 1 4 1 8 9 3 3 2 4 0 5 5 0 7 7 6 4 5 4 0 2 6 6 4 2 9 9 1 1 1 7 6 6 9 8 7 8 0 6 2 9 2 4 1 7 0 2 5 5 9 9 1 8 7 3 5 2 7 7 7 6 7 7 7 9 6 5 7 4 2 4 4 0 4 2 1 2 0 0 8 1 4 2 4 6 9 2 1 5 7 8 7 4 3 1 9 6 2 7 9 0 9 9 5 2 9 2 8 8 4 9 3 7 6 3 1 7 2 5 2 3 5 6 5 5 6 9 6 7 2 9 0 1 4 9 4 5 1 9 0 3 0 4 2 2 2 8 0 6 1 1 2 4 5 0 8 5 9 2 3 8 4 6 3 1 6 8 9 2 4 2 4 2 2 4 2 4 5 8 4 1 7 8 1 7 4 5 0 3 1 9 3 3 9 9 6 4 0 8 6 7 5 1 6 9 0 6 8 2 1 5 1 7 5 5 4 6 9 9 7 1 6 4 5 3 3 0 6 7 7 8 3 2 5 6 7 4 7 7 3 1 4 2 6 4 9 1 8 1 9 5 3 7 9 2 6 8 6 9 7 4 8 4 8 7 2 8 4 3 9 0 5 3 4 5 7 9 4 9 9 0 5 4 1 7 7 8 1 4 5 7 0 8 6 0 6 7 8 1 9 2 4 9 9 8 1 0 0 3 5 7 1 3 2 8 5 9 0 2 2 5 0 3 7 6 9 2 9 1 3 7 3 2 2 1 8 3 4 2 9 5 1 5 2 5 1 1 3 2 7 8 7 0 3 6 0 3 7 2 2 5 0 0 1 6 9 9 6 8 0 4 6 0 0 7 3 5 0 6 1 8 0 8 3 8 0 0 2 4 5 5 5 3 8 3 5 8 7 8 8 5 3"
      ],
      "metadata": {
        "id": "Li9qA_2M6wkx"
      }
    },
    {
      "cell_type": "markdown",
      "source": [
        "Из проблем 1) не могу приблизиться к нормальной точности должно быть 1.202, а у меня 1.19999\n",
        "\n",
        "2) После 450 длинны и 450 элементов комп начинает виснуть, и как решение и оптимизацию памяти есть 2 варианта\n",
        "\n",
        "а) отдельно выделять больше памяти\n",
        "\n",
        "б) работать с массивами по частям или пихать их по частям в файл а уже оттуда доставать и работать паралельно, этим на данный момент и занимаюсь, ну и в процессе начал изучать оптимизацию кода связанную с компиляторами (флаги и т.п.)"
      ],
      "metadata": {
        "id": "SHiT8ngx7UQ0"
      }
    },
    {
      "cell_type": "markdown",
      "source": [
        "Из проблем, пока работаю с файлами, думал почти всё готово но при проверке обнаружил серьезную проблему, в pnetcdf есть переменные в которые записываются данные, и видимо если создавать их на нулевом процессе, то остальные процессы их не видят, а если на всех одновременно, то вылетает кучу ошибок, так что в данный момент это исправляю."
      ],
      "metadata": {
        "id": "ofRhVDN262pp"
      }
    },
    {
      "cell_type": "markdown",
      "source": [
        "Архив с проектом приклеплю"
      ],
      "metadata": {
        "id": "M2y6VBhj9W86"
      }
    },
    {
      "cell_type": "markdown",
      "source": [
        "Полный код"
      ],
      "metadata": {
        "id": "b_rkswiE8PAC"
      }
    },
    {
      "cell_type": "code",
      "source": [
        "#include <stdio.h>\n",
        "#include <math.h>\n",
        "#include \"mpi.h\"\n",
        "#include <time.h>       // for clock_t, clock(), CLOCKS_PER_SEC\n",
        "#include <omp.h>\n",
        "#include <locale.h>\n",
        "#include <iostream>\n",
        "#include <stdlib.h>\n",
        "//#include< iostream >\n",
        "#include<malloc.h>\n",
        "//#include <netcdf.h>\n",
        "//#include <vector>\n",
        "//#include <string>\n",
        "//\n",
        "//\n",
        "//cd source\\repos\\ConsoleApplication2\\x64\\Debug\n",
        "//mpiexec -n 3 .\\ConsoleApplication2.exe\n",
        "//C:\\Users\\den19\\source\\repos\\ConsoleApplication2\\ConsoleApplication2\\example.nc\n",
        "//\n",
        "//1,202 056 903 159 594 285 399 738 161 511 449 990 764 986 292 340 498 881 792 271 555 3\n",
        "\n",
        "//1\n",
        "//0,125\n",
        "//0,03703703703\n",
        "//0,015625\n",
        "//0,008\n",
        "//0,00462962962\n",
        "//0,00291545189\n",
        "//\n",
        "/////////////////////////////////////////////////////////////////////////////////////\n",
        "#define row 455 //Задание строк массива\n",
        "#define col 455 //Задание столбцов массива\n",
        "\n",
        "\n",
        "// Распределение данных между процессами\n",
        "void t_data(int s, int lnmass[col], int lnmas[col][2], int m)\n",
        "{\n",
        "    for (int g = 0; g < s; g++) //Перебираем по номеру процессы\n",
        "    {\n",
        "        if (lnmass[g] == 0) //Если процесс под номером g - не занят (lnmass[g] == 0)\n",
        "        {\n",
        "            m = 0;// То начинаем перебор не занятых элементов ряда\n",
        "            while (m < col) // Перебор\n",
        "            {\n",
        "                if (lnmas[m][1] == 0) // Если элемент не занят (lnmas[m][1] == 0)\n",
        "                {// , то\n",
        "                    lnmas[m][0] = g;// Указываем номер процесса, который занимается этим элементом\n",
        "                    lnmas[m][1] = 1;// Указываем на то, что  выполняется подсчёт данного элемента (lnmas[m][1] = 1)\n",
        "                    m = col; // Завершаем цикл\n",
        "                    lnmass[g] = 1; // Устанавливаем значение занятости процесса\n",
        "                }\n",
        "                else\n",
        "                {\n",
        "                    m = m + 1; // Если элемент занят, то просматриваем следующий ( стоящий справа )\n",
        "                }\n",
        "            }\n",
        "        }\n",
        "    }\n",
        "}\n",
        "\n",
        "// Рассылка элементов по процессам\n",
        "void r_data(int s, int lnmas[col][2], int m, int u)\n",
        "{\n",
        "    m = 0;\n",
        "    for (m = 0; m < col; m++) // Перебираем элементы\n",
        "    {\n",
        "        if ((lnmas[m][1] == 1) && (lnmas[m][0] != 0)) // Если в данный момент нужно выполнить подсчёт этого элемента и процесс выполняющий подсчёт не является нулевым\n",
        "        {\n",
        "            MPI_Send(&m, 1, MPI_INT, lnmas[m][0], 0, MPI_COMM_WORLD); // Отсылаем номер элемента, над которым нужно работать, каждому процессу\n",
        "\n",
        "        }\n",
        "        else if ((lnmas[m][1] == 1) && (lnmas[m][0] == 0))\n",
        "        {\n",
        "            u = m;\n",
        "\n",
        "        }\n",
        "    }\n",
        "}\n",
        "\n",
        "\n",
        "void c_mas(int i, float b, float aa, int mas[row])\n",
        "{\n",
        "    while (i < row)\n",
        "    {\n",
        "        ////////////////////////////////////////////////////////////////////////////////////////////////////////////\n",
        "        float z = 0;\n",
        "        //Если b (в данном случае 1 - не делится на наше число ( которое равняется от 1 до 50-ти в третьей степени), то\n",
        "        // мы движемся вправо по числу (i=1) (0,0 -> 0,00) (i+1) (i=2) и домножаем b на 10-ть (имитируем деление в столбик (1 / 10) = 0,.... (10/10) = 1, = {0,1}\n",
        "        ////////////////////////////////////\n",
        "        if ((b / aa) < 1)\n",
        "        {\n",
        "            i = i + 1;\n",
        "            b = b * 10;\n",
        "        }\n",
        "        //Если в данном случае b делится на число (к примеру 10 / 3),\n",
        "        //  то мы берем целое от числа и записываем int(10/3) = 0,...3...//1)   и заполняем им значение массива    //2)\n",
        "        // после этого берем остаток от деления и присваеваем его значение b %(10/3) = 1 и повторяем операцию\n",
        "        // и выходит {3} остаток -  b = 1, не делится следовательно {3,..} смотрим b*10 = 1*10 = 10; 10/3 => 3 {3, 3...}\n",
        "        //////////////////////////////////////\n",
        "        else\n",
        "        {\n",
        "            z = (int)(b / aa);//1)\n",
        "            mas[i] = z;\n",
        "            b = (int)b % (int)aa;\n",
        "        }\n",
        "        // i = i + 1;\n",
        "    }\n",
        "}\n",
        "\n",
        "\n",
        "void norm_mas(int masn[col][row])\n",
        "{\n",
        "    for (int x1 = 0; x1 < col; x1++)\n",
        "    {\n",
        "        for (int x2 = 1; x2 < row; x2++)\n",
        "        {\n",
        "            while (masn[0][x2] > 9)\n",
        "            {\n",
        "                masn[0][x2] = masn[0][x2] - 10;\n",
        "                masn[0][x2 - 1] = masn[0][x2 - 1] + 1;\n",
        "            }\n",
        "\n",
        "        }\n",
        "            printf(\"%i \", masn[0][x1]);\n",
        "\n",
        "\n",
        "\n",
        "    }\n",
        "\n",
        "\n",
        "}\n",
        "\n",
        "\n",
        "void summmas(int masn[col][row])\n",
        "{\n",
        "    for (int x1 = 0; x1 < col; x1++)\n",
        "    {\n",
        "        for (int x2 = 1; x2 < row; x2++)\n",
        "        {\n",
        "            masn[0][x2] = masn[0][x2] + masn[x1][x2];\n",
        "            masn[x1][x2] = 0;\n",
        "        }\n",
        "    }\n",
        "}\n",
        "\n",
        "\n",
        "\n",
        "int main(int argc, char** argv) {\n",
        "    char* locale = setlocale(LC_ALL, \"Russian\");\n",
        "    int r = 0;\n",
        "    int masn[col][row] = { 0 };\n",
        "    int u1 = 0;\n",
        "    int size = 0, rank = 0;\n",
        "    double start, end, start1, end1;\n",
        "    MPI_Init(&argc, &argv);\n",
        "    MPI_Comm_rank(MPI_COMM_WORLD, &rank);\n",
        "   // MPI_Barrier(MPI_COMM_WORLD);\n",
        "    start = MPI_Wtime();\n",
        "    MPI_Comm_size(MPI_COMM_WORLD, &size);// кол-во процессов\n",
        "\n",
        "    masn[0][0] = 1;\n",
        "\n",
        "    int s = size;\n",
        "    //int masn[row][col] = { 0 };//массив значений\n",
        "\n",
        "\n",
        "\n",
        "    int lnmass[col] = { 0 };//Состояние занятости процесса (0 - не занят, 1 - занят)\n",
        "    int lnmas[col][2] = { 0 };//Состояние готовности массива\n",
        "\n",
        "    //1) [] - номер процесса, который работает над элементом массива,\n",
        "    //2) [] - состояние готовности (0 - не занят, 1 - работает, 2 - готов)\n",
        "\n",
        "\n",
        "\n",
        "    int a = 1;//Номер элемента (начинается с 1 на нулевом процессе)\n",
        "    int m = 0;//Используется для перебора элементов в массиве (когда смотрим занят или нет)\n",
        "    int f = 0;\n",
        "    int u = 0;\n",
        "\n",
        "    int jj = 0;\n",
        "\n",
        "    while (jj < 3)\n",
        "    {\n",
        "        jj = jj + 1;\n",
        "\n",
        "    if (rank == 0) { // На 0 процессе\n",
        "            if (lnmas[col - 1][1] == 0)//Пока над последним элементом не поработает процесс\n",
        "            {\n",
        "                // Распределение данных между процессами\n",
        "                t_data(size, lnmass, lnmas, m);\n",
        "\n",
        "                // Рассылка элементов по процессам\n",
        "                r_data(size, lnmas, m, u);\n",
        "            }\n",
        "\n",
        "        }\n",
        "\n",
        "\n",
        "\n",
        "        for (int i = 1; i < size; i++)//Прием элементов по процессам\n",
        "        {\n",
        "            if (rank == i)\n",
        "            {\n",
        "                MPI_Status status;\n",
        "                MPI_Recv(&u, 1, MPI_INT, 0, 0, MPI_COMM_WORLD, &status);\n",
        "            }\n",
        "\n",
        "        }\n",
        "\n",
        "\n",
        "        a = u;\n",
        "        a = (jj - 1) * size + (rank + 1);\n",
        "        a = a + 1;\n",
        "\n",
        "        //Объявление переменных\n",
        "        int i = 0;\n",
        "        float b = 1.0;\n",
        "        int mas[row] = { 0 };\n",
        "        float aa = (float)a * (float)a * (float)a;//Возведение в третью степень (ряд вида [ от 1/(1^3) .... до 1/(50^3) ] )\n",
        "\n",
        "\n",
        "        //Функция для вычисления значений\n",
        "        c_mas(i, b, aa, mas);\n",
        "\n",
        "\n",
        "        if (rank == 0)\n",
        "        {\n",
        "\n",
        "            //Присвоение значений общему массиву на нулевом процессе\n",
        "            for (int x = 0; x < row; x++)\n",
        "            {\n",
        "                //masn[a - 1 + (jj - 1) * (size)][x] = mas[x];\n",
        "                masn[a - 1][x] = mas[x];\n",
        "            }\n",
        "\n",
        "            lnmass[0] = 0;\n",
        "            lnmas[u][1] == 2;\n",
        "          //  printf(\"%i \", 0);\n",
        "        }\n",
        "\n",
        "\n",
        "        if (rank == 0)\n",
        "        {\n",
        "            //Функция для получения данных после отправки на нулевой процесс с остальных процессов готовых строк\n",
        "            for (int y = 1; y < size; y++)\n",
        "            {\n",
        "\n",
        "                MPI_Status status;\n",
        "                MPI_Recv(&mas, row, MPI_INT, y, 0, MPI_COMM_WORLD, &status);\n",
        "\n",
        "                for (int x = 1; x < row; x++)\n",
        "                {\n",
        "                    masn[a + y - 1  + (jj - 1) * (size)][x] = mas[x];\n",
        "                    masn[a + y - 1][x] = mas[x];\n",
        "                  //  printf(\"%i \", mas[x - 1]);\n",
        "                }\n",
        "              //  printf(\"\\n\\n\");\n",
        "                for (int x1 = 0; x1 < col; x1++)\n",
        "                {\n",
        "                    for (int x2 = 0; x2 < row; x2++)\n",
        "                    {\n",
        "                      //  printf(\"%i \", masn[x1][x2]);\n",
        "                    }\n",
        "                   // printf(\"\\n\");\n",
        "                }\n",
        "              //  printf(\"\\n\\n\"); printf(\"\\n\\n\");\n",
        "\n",
        "\n",
        "                //Функция для указания что процесс свободен\n",
        "                MPI_Recv(&r, 1, MPI_INT, y, 0, MPI_COMM_WORLD, &status);\n",
        "                //printf(\"%i \", r);\n",
        "                lnmass[r] = 0;\n",
        "\n",
        "\n",
        "                MPI_Recv(&u1, 1, MPI_INT, y, 0, MPI_COMM_WORLD, &status);\n",
        "                lnmas[u1][1] == 2;\n",
        "            }\n",
        "\n",
        "\n",
        "        }\n",
        "        else\n",
        "        {\n",
        "            //Функция для отправки строк\n",
        "            MPI_Send(&mas, row, MPI_INT, 0, 0, MPI_COMM_WORLD);\n",
        "\n",
        "            MPI_Send(&u, 1, MPI_INT, 0, 0, MPI_COMM_WORLD);\n",
        "\n",
        "            MPI_Send(&rank, 1, MPI_INT, 0, 0, MPI_COMM_WORLD);\n",
        "        }\n",
        "\n",
        "    }\n",
        "    if (rank == 0)\n",
        "    {\n",
        "        //Функция для суммирования строк (для получения готового ответа в виде итоговой суммы\n",
        "        summmas(masn);\n",
        "\n",
        "        //Функция для сокращения (в ответе получается ряд вида 0,1 15 29 и т.д. а она переделывает его в 0, 2 7 9....\n",
        "        norm_mas(masn);\n",
        "    }\n",
        "\n",
        "\n",
        "\n",
        "MPI_Finalize();\n",
        "\n",
        "}\n",
        "\n"
      ],
      "metadata": {
        "id": "wccqFDOw8a77"
      },
      "execution_count": null,
      "outputs": []
    },
    {
      "cell_type": "markdown",
      "source": [
        "Пока не настроил нормально:"
      ],
      "metadata": {
        "id": "cY1WDLJN8d4r"
      }
    },
    {
      "cell_type": "markdown",
      "source": [
        "//#define NX row // Размер массива\n",
        "//#define NUM_VARS 1 // Количество переменных на процесс\n",
        "//#define TOTAL_VARS (NUM_VARS * 5) // Общее количество переменных\n",
        "\n",
        "void read_data(const char* filename, int var_index, int* data) {\n",
        "    int ncid, varid;\n",
        "    // Открываем файл NetCDF\n",
        "    nc_open(filename, NC_NOWRITE, &ncid);\n",
        "\n",
        "    // Создаем имя переменной\n",
        "    std::string var_name = \"var_\" + std::to_string(var_index);\n",
        "\n",
        "    // Получаем идентификатор переменной\n",
        "    nc_inq_varid(ncid, var_name.c_str(), &varid);\n",
        "\n",
        "    if (varid == NC_NOERR) {\n",
        "        // Читаем данные из переменной\n",
        "        nc_get_var_int(ncid, varid, data);\n",
        "    }\n",
        "    else {\n",
        "        std::cerr << \"Variable \" << var_name << \" not found!\" << std::endl;\n",
        "    }\n",
        "\n",
        "    // Закрываем файл\n",
        "    nc_close(ncid);\n",
        "}\n",
        "\n",
        "*/\n",
        "\n",
        "/***\n",
        "\n",
        "void write_data(const char* filename, int var_index, int* data) {\n",
        "    int ncid, varid;\n",
        "    // Открываем файл NetCDF\n",
        "    nc_open(filename, NC_WRITE, &ncid);\n",
        "\n",
        "    // Создаем имя переменной\n",
        "   // std::string var_name = \"var_\" + std::to_string(var_index);\n",
        "\n",
        "    // Определяем переменную (если она еще не была определена)\n",
        " //   nc_inq_varid(ncid, var_name.c_str(), &varid);\n",
        "\n",
        "    if (varid == NC_NOERR) {\n",
        "        // Записываем данные в переменную\n",
        "        nc_put_var_int(ncid, varid, data);\n",
        "    }\n",
        "    else {\n",
        "        std::cerr << \"Variable \" << var_name << \" not found!\" << std::endl;\n",
        "    }\n",
        "\n",
        "    // Закрываем файл\n",
        "    nc_close(ncid);\n",
        "}\n",
        "\n",
        "/***\n",
        "// Создаем файл NetCDF только в процессе 0\n",
        "if (rank == 0) {\n",
        "    int ncid;\n",
        "    nc_create(filename, NC_CLOBBER, &ncid);\n",
        "\n",
        "    // Определяем размерность\n",
        "    int dimid;\n",
        "    nc_def_dim(ncid, \"dim\", NX, &dimid);\n",
        "\n",
        "   // std::cout << \"Create vars:\\n\\n\" << \" \";\n",
        "    // Определяем переменные в цикле\n",
        "    for (int i = 0; i < TOTAL_VARS; ++i) {\n",
        "        std::string var_name = \"var_\" + std::to_string(i);\n",
        "        int varid;\n",
        "        nc_def_var(ncid, var_name.c_str(), NC_DOUBLE, 1, &dimid, &varid);\n",
        "\n",
        "     //   std::cout << var_name << \"  \";\n",
        "\n",
        "    }\n",
        "\n",
        "    // Завершаем определение файла\n",
        "    nc_enddef(ncid);\n",
        "    nc_close(ncid);\n",
        "}\n",
        "*/\n",
        "\n",
        "//write_data(filename, u, mas);\n",
        "\n",
        "/***\n",
        "// Каждый процесс читает свои данные\n",
        "for (int i = 0; i < NUM_VARS; ++i) {\n",
        "    int read_data_array[NX];\n",
        "    //read_data(filename, rank * NUM_VARS + i, read_data_array);\n",
        "\n",
        "    //std::cout << \"Process \" << rank << \" read data from var_\" << (rank * NUM_VARS + i) << \": \";\n",
        "    for (int j = 0; j < NX; ++j) {\n",
        "     //   std::cout << read_data_array[j] << \" \";\n",
        "    }\n",
        "   // std::cout << std::endl;\n",
        "}\n",
        "*/\n",
        "\n"
      ],
      "metadata": {
        "id": "JH66zXVR8hE7"
      }
    }
  ]
}